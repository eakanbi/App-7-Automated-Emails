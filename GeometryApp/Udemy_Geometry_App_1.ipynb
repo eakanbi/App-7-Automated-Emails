{
  "nbformat": 4,
  "nbformat_minor": 0,
  "metadata": {
    "colab": {
      "provenance": []
    },
    "kernelspec": {
      "name": "python3",
      "display_name": "Python 3"
    },
    "language_info": {
      "name": "python"
    }
  },
  "cells": [
    {
      "cell_type": "code",
      "execution_count": null,
      "metadata": {
        "id": "bHnFFBHexQjS"
      },
      "outputs": [],
      "source": [
        "import re\n",
        "from random import randint\n",
        "class Point:\n",
        "\n",
        "  def __init__(self, x, y):\n",
        "    self.x = x\n",
        "    self.y = y\n",
        "\n",
        "  def falls_in_rectangle(self, rectangle):\n",
        "\n",
        "    if rectangle.point1 .x < self.x < rectangle.point2.x\\\n",
        "    and rectangle.point1 .y < self.y < rectangle.point2.y:\n",
        "      return True\n",
        "    else:\n",
        "        return False\n",
        "\n",
        "  def distance_from_point(self, point):\n",
        "    diffx = (self.x - point.x)**2\n",
        "    diffy = (self.y - point.y)**2\n",
        "    dist = (diffx+diffy)**0.5\n",
        "    return dist\n",
        "    \n",
        "\n",
        "class Rectangle:\n",
        "\n",
        "  def __init__(self, point1, point2):\n",
        "    self.point1 = point1\n",
        "    self.point2 = point2\n",
        "    \n",
        "  def area(self):\n",
        "    return (self.point2.x-self.point1.x) * (self.point2.y-self.point1.y)\n",
        "\n",
        "  "
      ]
    },
    {
      "cell_type": "code",
      "source": [
        "# Create rectangle object\n",
        "rectangle = Rectangle(Point(randint(0, 9), randint(0, 9)), \n",
        "              Point(randint(10, 19), randint(10, 19)))\n",
        " \n",
        "# Print rectangle coordinates\n",
        "print(\"Rectangle Coordinates: \",\n",
        "      rectangle.point1.x, \",\",\n",
        "      rectangle.point1.y, \"and\",\n",
        "      rectangle.point2.x, \",\",\n",
        "      rectangle.point2.y)\n",
        " \n",
        "# Get point and area from user\n",
        "user_point = Point(float(input(\"Guess x: \")), float(input(\"Guess y: \")))\n",
        "user_area = float(input(\"Guess rectangle area: \"))\n",
        " \n",
        "# Print out the game result\n",
        "print(\"Your point was inside rectangle: \", user_point.falls_in_rectangle(rectangle))\n",
        "print(\"Your area was off by: \", rectangle.area() - user_area)"
      ],
      "metadata": {
        "colab": {
          "base_uri": "https://localhost:8080/"
        },
        "id": "Qp464VBVI0Gs",
        "outputId": "704d82b7-99e1-463e-e20d-59183a67fd4c"
      },
      "execution_count": null,
      "outputs": [
        {
          "output_type": "stream",
          "name": "stdout",
          "text": [
            "Rectangle Coordinates:  0 , 8 and 10 , 10\n",
            "Guess x: 3\n",
            "Guess y: 3\n",
            "Guess rectangle area: 3\n",
            "Your point was inside rectangle:  False\n",
            "Your area was off by:  17.0\n"
          ]
        }
      ]
    },
    {
      "cell_type": "code",
      "source": [
        "rectanglex = Rectangle(Point(5,6), Point(7,9))"
      ],
      "metadata": {
        "id": "eZrS5vRaAfhf"
      },
      "execution_count": null,
      "outputs": []
    },
    {
      "cell_type": "code",
      "source": [
        "pointx = Point(6,7)"
      ],
      "metadata": {
        "id": "RQe9o1YtBJ6X"
      },
      "execution_count": null,
      "outputs": []
    },
    {
      "cell_type": "code",
      "source": [
        "pointx.falls_in_rectangle(rectanglex)"
      ],
      "metadata": {
        "colab": {
          "base_uri": "https://localhost:8080/"
        },
        "id": "EaX7rXzmBOBI",
        "outputId": "1f4d98e5-6750-4458-fbad-e09384bc7d09"
      },
      "execution_count": null,
      "outputs": [
        {
          "output_type": "execute_result",
          "data": {
            "text/plain": [
              "True"
            ]
          },
          "metadata": {},
          "execution_count": 49
        }
      ]
    },
    {
      "cell_type": "code",
      "source": [
        "rectanglex.area()"
      ],
      "metadata": {
        "colab": {
          "base_uri": "https://localhost:8080/"
        },
        "id": "p1q6moO7GvUb",
        "outputId": "a2440325-6f02-434e-9649-03ea4fad2c71"
      },
      "execution_count": null,
      "outputs": [
        {
          "output_type": "execute_result",
          "data": {
            "text/plain": [
              "6"
            ]
          },
          "metadata": {},
          "execution_count": 51
        }
      ]
    },
    {
      "cell_type": "code",
      "source": [
        "point1 = Point(3,4)\n",
        "point2 = Point(5,6)\n",
        "point1"
      ],
      "metadata": {
        "colab": {
          "base_uri": "https://localhost:8080/"
        },
        "id": "QsG1sh1e0nDA",
        "outputId": "d95130e0-6293-4e66-9e55-9d57588393a4"
      },
      "execution_count": null,
      "outputs": [
        {
          "output_type": "execute_result",
          "data": {
            "text/plain": [
              "<__main__.Point at 0x7fe4f2d4d700>"
            ]
          },
          "metadata": {},
          "execution_count": 26
        }
      ]
    },
    {
      "cell_type": "code",
      "source": [
        "point1.distance_from_point(point2)"
      ],
      "metadata": {
        "colab": {
          "base_uri": "https://localhost:8080/"
        },
        "id": "4yspLx7W7qiU",
        "outputId": "173ae874-2bbc-4e1b-8e77-a4ca8030f9d7"
      },
      "execution_count": null,
      "outputs": [
        {
          "output_type": "execute_result",
          "data": {
            "text/plain": [
              "2.8284271247461903"
            ]
          },
          "metadata": {},
          "execution_count": 20
        }
      ]
    },
    {
      "cell_type": "code",
      "source": [
        "point1.distance_from_point(1,1)"
      ],
      "metadata": {
        "colab": {
          "base_uri": "https://localhost:8080/"
        },
        "id": "jm1NNOkJ6-kH",
        "outputId": "7c234c32-17b3-4c0b-d791-ea065056ce36"
      },
      "execution_count": null,
      "outputs": [
        {
          "output_type": "execute_result",
          "data": {
            "text/plain": [
              "3.605551275463989"
            ]
          },
          "metadata": {},
          "execution_count": 16
        }
      ]
    },
    {
      "cell_type": "code",
      "source": [
        "point1.falls_in_rectangle((5,6),(7,9))"
      ],
      "metadata": {
        "colab": {
          "base_uri": "https://localhost:8080/"
        },
        "id": "TTn4fO1F0uYa",
        "outputId": "355e779f-fa4a-4f5a-f4cb-6e6d9e6c556b"
      },
      "execution_count": null,
      "outputs": [
        {
          "output_type": "execute_result",
          "data": {
            "text/plain": [
              "False"
            ]
          },
          "metadata": {},
          "execution_count": 7
        }
      ]
    },
    {
      "cell_type": "code",
      "source": [],
      "metadata": {
        "id": "cZa7coM15PeQ"
      },
      "execution_count": null,
      "outputs": []
    }
  ]
}